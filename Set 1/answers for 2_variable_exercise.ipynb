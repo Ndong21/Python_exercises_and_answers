{
 "cells": [
  {
   "cell_type": "markdown",
   "id": "f323196a",
   "metadata": {},
   "source": [
    "# Basic python tutorials from codebasics.io"
   ]
  },
  {
   "cell_type": "markdown",
   "id": "1a6d8f27",
   "metadata": {},
   "source": [
    "# Set 1"
   ]
  },
  {
   "cell_type": "markdown",
   "id": "16a05ea7",
   "metadata": {},
   "source": [
    "1. Create a variable called break and assign it a value 5. See what happens and find out the reason behind the behavior that you see."
   ]
  },
  {
   "cell_type": "code",
   "execution_count": 1,
   "id": "06317f9d",
   "metadata": {},
   "outputs": [
    {
     "ename": "SyntaxError",
     "evalue": "invalid syntax (1599402383.py, line 1)",
     "output_type": "error",
     "traceback": [
      "\u001b[1;36m  Cell \u001b[1;32mIn[1], line 1\u001b[1;36m\u001b[0m\n\u001b[1;33m    break = 5\u001b[0m\n\u001b[1;37m          ^\u001b[0m\n\u001b[1;31mSyntaxError\u001b[0m\u001b[1;31m:\u001b[0m invalid syntax\n"
     ]
    }
   ],
   "source": [
    "# create a variable called break and asign it a value of 5.\n",
    "\n",
    "break = 5\n",
    "print(break)"
   ]
  },
  {
   "cell_type": "markdown",
   "id": "c465ef8f",
   "metadata": {},
   "source": [
    "The above code throws an error because we have created a variable using a key word in python (break). Keywords in python are reserved words that can not be used as variable name, function names or any identifier."
   ]
  },
  {
   "cell_type": "markdown",
   "id": "6305ffe9",
   "metadata": {},
   "source": [
    "Now lets write a simple program to print all the keywords in python."
   ]
  },
  {
   "cell_type": "code",
   "execution_count": 7,
   "id": "94443ba5",
   "metadata": {},
   "outputs": [
    {
     "name": "stdout",
     "output_type": "stream",
     "text": [
      "The keywords in python are: \n",
      "\n",
      "\n",
      "['False', 'None', 'True', 'and', 'as', 'assert', 'async', 'await', 'break', 'class', 'continue', 'def', 'del', 'elif', 'else', 'except', 'finally', 'for', 'from', 'global', 'if', 'import', 'in', 'is', 'lambda', 'nonlocal', 'not', 'or', 'pass', 'raise', 'return', 'try', 'while', 'with', 'yield']\n"
     ]
    }
   ],
   "source": [
    "# import \"keyword\" for keyword operations\n",
    "\n",
    "import keyword\n",
    "\n",
    "# print all keywords at once using \"kwlist()\"\n",
    "\n",
    "print('The keywords in python are: ')\n",
    "print('\\n')\n",
    "print(keyword.kwlist)\n"
   ]
  },
  {
   "cell_type": "markdown",
   "id": "7dcdb061",
   "metadata": {},
   "source": [
    "2. Create two variables. One to store your birth year and another one to store current year. Now calculate your age using these two variables"
   ]
  },
  {
   "cell_type": "code",
   "execution_count": 15,
   "id": "41d75b94",
   "metadata": {},
   "outputs": [
    {
     "name": "stdout",
     "output_type": "stream",
     "text": [
      "My age is 29 years.\n"
     ]
    }
   ],
   "source": [
    "# create variable to store birth year and current year\n",
    "\n",
    "b_year = 1992\n",
    "c_year = 2021\n",
    "\n",
    "# calculate age\n",
    "\n",
    "age = c_year - b_year\n",
    "\n",
    "# print your age\n",
    "\n",
    "print('My age is '+ str(age) +' years.') # convert age to string, str(age) to concatinate with other strings in the print statment"
   ]
  },
  {
   "cell_type": "markdown",
   "id": "e2d15d2a",
   "metadata": {},
   "source": [
    "3. Store your first, middle and last name in three different variables and then print your full name using these variables\n"
   ]
  },
  {
   "cell_type": "code",
   "execution_count": 16,
   "id": "6867df17",
   "metadata": {},
   "outputs": [
    {
     "name": "stdout",
     "output_type": "stream",
     "text": [
      "my name is Ndogima Kelvy Larry.\n"
     ]
    }
   ],
   "source": [
    "# create three variables and store different parts of your name\n",
    "\n",
    "first_name = 'Ndogima'\n",
    "middle_name = 'Kelvy'\n",
    "last_name = 'Larry'\n",
    "\n",
    "# print out your name\n",
    "# i will use another form strings interpolations for jhis exercise \n",
    "# precisely f-strings\n",
    "\n",
    "print(f'my name is {first_name} {middle_name} {last_name}.')"
   ]
  },
  {
   "cell_type": "markdown",
   "id": "03846362",
   "metadata": {},
   "source": [
    "4. Answer which of these are invalid variable names: _nation, 1record, record1, record_one, record-one, record^one, continue"
   ]
  },
  {
   "cell_type": "code",
   "execution_count": 19,
   "id": "d229ffc6",
   "metadata": {},
   "outputs": [
    {
     "name": "stdout",
     "output_type": "stream",
     "text": [
      "True\n",
      "False\n",
      "True\n",
      "True\n",
      "False\n",
      "False\n",
      "True\n"
     ]
    }
   ],
   "source": [
    "# we will use str.isidentifier() to check that each of the variables\n",
    "# are valid in python: another method was to check manually using the rules\n",
    "# of naming python variables\n",
    "# but i will go with the first\n",
    "\n",
    "print('_nation'.isidentifier())\n",
    "print('1record'.isidentifier())\n",
    "print('record1'.isidentifier())\n",
    "print('record_one'.isidentifier())\n",
    "print('record-one'.isidentifier())\n",
    "print('record^one'.isidentifier())\n",
    "print('continue'.isidentifier())"
   ]
  },
  {
   "cell_type": "markdown",
   "id": "c579bd89",
   "metadata": {},
   "source": [
    "As we can see, if it the function returns true, then its an identifier but not necessarily a valid variable name. For example, continue gives true but yet it's a python keyword instead. so to check for valid variable name, we also have to check that its not a keyword. we will use a function for that."
   ]
  },
  {
   "cell_type": "code",
   "execution_count": 26,
   "id": "e58dabb6",
   "metadata": {},
   "outputs": [
    {
     "name": "stdout",
     "output_type": "stream",
     "text": [
      "_nation is a valid variable name in python\n",
      "----------\n",
      "1record is not a valid variable name in python\n",
      "----------\n",
      "record1 is a valid variable name in python\n",
      "----------\n",
      "record_one is a valid variable name in python\n",
      "----------\n",
      "record-one is not a valid variable name in python\n",
      "----------\n",
      "record^one is not a valid variable name in python\n",
      "----------\n",
      "continue is not a valid variable name in python\n"
     ]
    }
   ],
   "source": [
    "# write a function to check if a variable is an identifier and not a keyword\n",
    "# inorder for the variable to be a valid python keyword.\n",
    "\n",
    "# import 'iskeyword' for keyword operations\n",
    "\n",
    "from keyword import iskeyword \n",
    "\n",
    "# define a function to check for valid variable name\n",
    "\n",
    "def valid_python_variable_name(name):\n",
    "    '''Takes a string as an argument and\n",
    "    checks if its a valid variable name is python.'''\n",
    "    \n",
    "    if name.isidentifier() and not iskeyword(name) == True:\n",
    "        print(f'{name} is a valid variable name in python')\n",
    "    else:\n",
    "        print(f'{name} is not a valid variable name in python')\n",
    "        \n",
    "# use the function to check all the words given;\n",
    "\n",
    "valid_python_variable_name('_nation')\n",
    "print('-'*10)\n",
    "valid_python_variable_name('1record')\n",
    "print('-'*10)\n",
    "valid_python_variable_name('record1')\n",
    "print('-'*10)\n",
    "valid_python_variable_name('record_one')\n",
    "print('-'*10)\n",
    "valid_python_variable_name('record-one')\n",
    "print('-'*10)\n",
    "valid_python_variable_name('record^one')\n",
    "print('-'*10)\n",
    "valid_python_variable_name('continue')"
   ]
  },
  {
   "cell_type": "markdown",
   "id": "d057dc70",
   "metadata": {},
   "source": [
    "Therefor from our list, we have just three valid variable names that can be used in python, that is; _nation, record1 and record_one"
   ]
  },
  {
   "cell_type": "markdown",
   "id": "fb2dbd07",
   "metadata": {},
   "source": [
    "- Note, we could just manually check this variables and solve this exercise by checking the rules of naming python variables, but because i really want to practice coding and researching new terminologies and concepts on the internet, i used this simple but long method because its my first time to do this. Later on, when i gain some level of understanding, i will automate the process even further by storing all our check variables in a list and then have the function loop over and do the checking automatically."
   ]
  },
  {
   "cell_type": "markdown",
   "id": "c00af11a",
   "metadata": {},
   "source": [
    "Thanks for following along this short and very basic tutorial, i sure learnt alot and hope you too. Let me know your thoughts about my approaches and practices, if they are correct, good, recommended, or unacceptable. I know there are many ways to approach coding problems, let me know alternative methods you might have approached this simple exercises."
   ]
  }
 ],
 "metadata": {
  "kernelspec": {
   "display_name": "Python 3 (ipykernel)",
   "language": "python",
   "name": "python3"
  },
  "language_info": {
   "codemirror_mode": {
    "name": "ipython",
    "version": 3
   },
   "file_extension": ".py",
   "mimetype": "text/x-python",
   "name": "python",
   "nbconvert_exporter": "python",
   "pygments_lexer": "ipython3",
   "version": "3.11.3"
  }
 },
 "nbformat": 4,
 "nbformat_minor": 5
}
