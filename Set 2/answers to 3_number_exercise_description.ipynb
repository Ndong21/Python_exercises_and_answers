{
 "cells": [
  {
   "cell_type": "markdown",
   "id": "91e61b37",
   "metadata": {},
   "source": [
    "# Basic python tutorials from codebasics.io"
   ]
  },
  {
   "cell_type": "markdown",
   "id": "9cbab9da",
   "metadata": {},
   "source": [
    "## Set 2: Numbers in python"
   ]
  },
  {
   "cell_type": "markdown",
   "id": "9a5d1dcc",
   "metadata": {},
   "source": [
    "1. You have a football field that is 92 meter long and 48.8 meter wide. Find out total area using python and print it."
   ]
  },
  {
   "cell_type": "code",
   "execution_count": 4,
   "id": "0537a6f1",
   "metadata": {},
   "outputs": [
    {
     "name": "stdout",
     "output_type": "stream",
     "text": [
      "4489.599999999999\n"
     ]
    }
   ],
   "source": [
    "# create 2 variables to store the height and width of the field\n",
    "\n",
    "length = 92\n",
    "\n",
    "width = 48.8\n",
    "\n",
    "# calculate area\n",
    "\n",
    "area = length*width\n",
    "\n",
    "#print the area\n",
    "\n",
    "print(area)"
   ]
  },
  {
   "cell_type": "markdown",
   "id": "5f70129c",
   "metadata": {},
   "source": [
    "2. You bought 9 packets of potato chips from a store. Each packet costs 1.49 dollar and you gave shopkeeper 20 dollar. Find out using python, how many dollars is the shopkeeper going to give you back?"
   ]
  },
  {
   "cell_type": "code",
   "execution_count": 5,
   "id": "55184d0b",
   "metadata": {},
   "outputs": [
    {
     "name": "stdout",
     "output_type": "stream",
     "text": [
      "6.59\n"
     ]
    }
   ],
   "source": [
    "# create a variable to hold the number of packets of chips you bought, price per packet, money given to shopkeeper\n",
    "\n",
    "packets_of_chips_bought = 9\n",
    "\n",
    "price_per_packet_in_dollars = 1.49\n",
    "\n",
    "amount_given_to_shopkeeper_in_dollars = 20\n",
    "\n",
    "# now calculate how much was spent to buy the 9 packets of chips if 1 packet cost $1.49\n",
    "\n",
    "cost_of_9_packets = packets_of_chips_bought * price_per_packet_in_dollars\n",
    "\n",
    "# calculate your balance\n",
    "\n",
    "balance = amount_given_to_shopkeeper_in_dollars - cost_of_9_packets\n",
    "\n",
    "# print how much the shopkeeper will give you back\n",
    "\n",
    "print(balance)"
   ]
  },
  {
   "cell_type": "markdown",
   "id": "05aa7c95",
   "metadata": {},
   "source": [
    "3. You want to replace tiles in your bathroom which is exactly square and 5.5 feet is its length. If tiles cost 500 rs per square feet, how much will be the total cost to replace all tiles. Calculate and print the cost using python\n",
    "(Hint: Use power operator ** to find area of a square)"
   ]
  },
  {
   "cell_type": "code",
   "execution_count": 8,
   "id": "66ae2809",
   "metadata": {},
   "outputs": [
    {
     "name": "stdout",
     "output_type": "stream",
     "text": [
      "15125.0\n"
     ]
    }
   ],
   "source": [
    "# create variables for your tiles length and price per square feet tiles\n",
    "\n",
    "length_of_bathroom_in_feets = 5.5\n",
    "\n",
    "price_per_square_feet_in_rupees = 500\n",
    "\n",
    "# calculate the area of the total bathroom\n",
    "\n",
    "area_in_square_feet = length_of_bathroom_in_feets ** 2\n",
    "\n",
    "# calculate the total price of tiles needed for the entire bathroom\n",
    "\n",
    "total_price_tiles = price_per_square_feet_in_rupees * area_in_square_feet\n",
    "\n",
    "# print the total cost to replace all tiles in the bathroom in rupees\n",
    "\n",
    "\n",
    "print(total_price_tiles)"
   ]
  },
  {
   "cell_type": "markdown",
   "id": "d29549d2",
   "metadata": {},
   "source": [
    "4. Print binary representation of number 17"
   ]
  },
  {
   "cell_type": "code",
   "execution_count": 10,
   "id": "8e3e7716",
   "metadata": {},
   "outputs": [
    {
     "name": "stdout",
     "output_type": "stream",
     "text": [
      "10001\n"
     ]
    }
   ],
   "source": [
    "# create a variable to store the integer 17\n",
    "\n",
    "number = 17\n",
    "\n",
    "# use f-strings to print the binary of 17\n",
    "\n",
    "print(f'{number:b}')"
   ]
  }
 ],
 "metadata": {
  "kernelspec": {
   "display_name": "Python 3 (ipykernel)",
   "language": "python",
   "name": "python3"
  },
  "language_info": {
   "codemirror_mode": {
    "name": "ipython",
    "version": 3
   },
   "file_extension": ".py",
   "mimetype": "text/x-python",
   "name": "python",
   "nbconvert_exporter": "python",
   "pygments_lexer": "ipython3",
   "version": "3.11.3"
  }
 },
 "nbformat": 4,
 "nbformat_minor": 5
}
