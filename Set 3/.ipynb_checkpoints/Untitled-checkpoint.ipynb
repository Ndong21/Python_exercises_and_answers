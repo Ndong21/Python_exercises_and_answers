{
 "cells": [
  {
   "cell_type": "markdown",
   "id": "37d96d20",
   "metadata": {},
   "source": [
    "# Basic python tutorials from Codebasics.io"
   ]
  },
  {
   "cell_type": "markdown",
   "id": "1c514ed9",
   "metadata": {},
   "source": [
    "## Set 3: Strings in python"
   ]
  },
  {
   "cell_type": "markdown",
   "id": "d1eefdcf",
   "metadata": {},
   "source": [
    "1. Create 3 variables to store street, city and country, now create address variable to store entire address. Use two ways of creating this variable, one using + operator and the other using f-string. Now Print the address in such a way that the street, city and country prints in a separate line"
   ]
  },
  {
   "cell_type": "code",
   "execution_count": 19,
   "id": "762b063e",
   "metadata": {},
   "outputs": [
    {
     "name": "stdout",
     "output_type": "stream",
     "text": [
      "The address using + operator is: \n",
      "Malingo\n",
      "Buea\n",
      "Cameroon\n",
      "----------\n",
      "The address using f-strings is: \n",
      "Malingo\n",
      "Buea \n",
      "Cameroon\n"
     ]
    }
   ],
   "source": [
    "# create variables for street, city and country\n",
    "\n",
    "street = 'Malingo'\n",
    "city = 'Buea'\n",
    "country = 'Cameroon'\n",
    "\n",
    "# create address variable\n",
    "\n",
    "# using + operator\n",
    "address = street + '\\n' + city + '\\n'+ country\n",
    "\n",
    "# using f-strings\n",
    "\n",
    "address1 = f'''{street}\n",
    "{city} \n",
    "{country}'''\n",
    "\n",
    "#print address in two ways\n",
    "\n",
    "print('The address using + operator is: ')\n",
    "print(address)\n",
    "print('-'*10)\n",
    "print('The address using f-strings is: ')\n",
    "print(address1)"
   ]
  },
  {
   "cell_type": "markdown",
   "id": "6a88b2bd",
   "metadata": {},
   "source": [
    "2. Create a variable to store the string \"Earth revolves around the sun\"\n",
    "    1. Print \"revolves\" using slice operator\n",
    "    2. Print \"sun\" using negative index"
   ]
  },
  {
   "cell_type": "code",
   "execution_count": 33,
   "id": "959b4f69",
   "metadata": {},
   "outputs": [
    {
     "name": "stdout",
     "output_type": "stream",
     "text": [
      "revolves\n",
      "sun\n"
     ]
    }
   ],
   "source": [
    "# create variable and store string\n",
    "\n",
    "fact = 'Earth revolves around the sun'\n",
    "\n",
    "# A, print 'revolves' using slice operator\n",
    "\n",
    "print(fact[6:14])\n",
    "\n",
    "# B, print 'sun using negative index'\n",
    "\n",
    "print(fact[-3:])"
   ]
  },
  {
   "cell_type": "markdown",
   "id": "364fb59a",
   "metadata": {},
   "source": [
    "3. Create two variables to store how many fruits and vegetables you eat in a day. Now Print \"I eat x veggies and y fruits daily\" where x and y presents vegetables and fruits that you eat everyday. Use python f string for this."
   ]
  },
  {
   "cell_type": "code",
   "execution_count": 34,
   "id": "c84722db",
   "metadata": {},
   "outputs": [
    {
     "name": "stdout",
     "output_type": "stream",
     "text": [
      "I eat 3 veggies and 4 fruits daily\n"
     ]
    }
   ],
   "source": [
    "# create two variables to store the number of fruits\n",
    "\n",
    "number_of_vegetables = 3\n",
    "number_of_fruits = 4\n",
    "\n",
    "# print the statement\n",
    "\n",
    "print(f'''I eat {number_of_vegetables} veggies and {number_of_fruits} fruits daily''')"
   ]
  },
  {
   "cell_type": "markdown",
   "id": "b532e108",
   "metadata": {},
   "source": [
    "4. I have a string variable called s='maine 200 banana khaye'. This of course is a wrong statement, the correct statement is 'maine 10 samosa khaye'. Replace incorrect words in original strong with new ones and print the new string. Also try to do this in one line."
   ]
  },
  {
   "cell_type": "code",
   "execution_count": 35,
   "id": "de88b7dd",
   "metadata": {},
   "outputs": [
    {
     "name": "stdout",
     "output_type": "stream",
     "text": [
      "maine 10 samosa khaye\n"
     ]
    }
   ],
   "source": [
    "# create a variable and store the string given\n",
    "\n",
    "s = 'maine 200 banana khaye'\n",
    "\n",
    "# replace 200 with 10 and banana with samosa\n",
    "\n",
    "s = s.replace('200 banana', '10 samosa')\n",
    "\n",
    "# print new string\n",
    "\n",
    "print(s)"
   ]
  }
 ],
 "metadata": {
  "kernelspec": {
   "display_name": "Python 3 (ipykernel)",
   "language": "python",
   "name": "python3"
  },
  "language_info": {
   "codemirror_mode": {
    "name": "ipython",
    "version": 3
   },
   "file_extension": ".py",
   "mimetype": "text/x-python",
   "name": "python",
   "nbconvert_exporter": "python",
   "pygments_lexer": "ipython3",
   "version": "3.11.3"
  }
 },
 "nbformat": 4,
 "nbformat_minor": 5
}
