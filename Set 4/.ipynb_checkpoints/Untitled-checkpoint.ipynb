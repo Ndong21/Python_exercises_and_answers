{
 "cells": [
  {
   "cell_type": "markdown",
   "id": "555eb077",
   "metadata": {},
   "source": [
    "# Python Basic exercises from codebasics.io"
   ]
  },
  {
   "cell_type": "markdown",
   "id": "46e753a6",
   "metadata": {},
   "source": [
    "## Set 4: Python Lists"
   ]
  },
  {
   "cell_type": "markdown",
   "id": "f45603ff",
   "metadata": {},
   "source": [
    "1. Let us say your expense for every month are listed below,\n",
    "\t1. January -  2200\n",
    " \t2. February - 2350\n",
    "    3. March - 2600\n",
    "    4. April - 2130\n",
    "    5. May - 2190\n",
    "\n",
    "Create a list to store these monthly expenses and using that find out,\n",
    "\n",
    "    1. In Feb, how many dollars you spent extra compare to January?\n",
    "    2. Find out your total expense in first quarter (first three months) of the year.\n",
    "    3. Find out if you spent exactly 2000 dollars in any month\n",
    "    4. June month just finished and your expense is 1980 dollar. Add this item to our monthly expense list\n",
    "    5. You returned an item that you bought in a month of April and\n",
    "    got a refund of 200$. Make a correction to your monthly expense list\n",
    "    based on this"
   ]
  },
  {
   "cell_type": "code",
   "execution_count": 1,
   "id": "bd1e8391",
   "metadata": {},
   "outputs": [],
   "source": [
    "# create a list called expenses\n",
    "\n",
    "expenses = [2200, 2350, 2600, 2130, 2190]"
   ]
  },
  {
   "cell_type": "code",
   "execution_count": 2,
   "id": "7fc88d2d",
   "metadata": {},
   "outputs": [
    {
     "name": "stdout",
     "output_type": "stream",
     "text": [
      "150\n"
     ]
    }
   ],
   "source": [
    "# 1. In Feb, how many dollars you spent extra compare to January?\n",
    "\n",
    "extra_income_spent_in_feb = expenses[1]-expenses[0]\n",
    "\n",
    "print(extra_income_spent_in_feb)"
   ]
  },
  {
   "cell_type": "code",
   "execution_count": 3,
   "id": "e3a8fcc5",
   "metadata": {},
   "outputs": [
    {
     "name": "stdout",
     "output_type": "stream",
     "text": [
      "7150\n"
     ]
    }
   ],
   "source": [
    "# 2. Find out your total expense in first quarter (first three months) of the year.\n",
    "\n",
    "expense_for_firstquarter = expenses[0]+expenses[1]+expenses[2]\n",
    "\n",
    "print(expense_for_firstquarter)"
   ]
  },
  {
   "cell_type": "code",
   "execution_count": 4,
   "id": "eb407552",
   "metadata": {},
   "outputs": [
    {
     "data": {
      "text/plain": [
       "False"
      ]
     },
     "execution_count": 4,
     "metadata": {},
     "output_type": "execute_result"
    }
   ],
   "source": [
    "# 3. Find out if you spent exactly 2000 dollars in any month\n",
    "\n",
    "2000 in expenses"
   ]
  },
  {
   "cell_type": "code",
   "execution_count": 5,
   "id": "8f476be2",
   "metadata": {},
   "outputs": [
    {
     "name": "stdout",
     "output_type": "stream",
     "text": [
      "[2200, 2350, 2600, 2130, 2190, 1980]\n"
     ]
    }
   ],
   "source": [
    "# 4. June month just finished and your expense is 1980 dollar. Add this item to our monthly expense list\n",
    "# to achieve this we will use the append() function which will insert an item in our list from the last position\n",
    "\n",
    "expenses.append(1980)\n",
    "\n",
    "print(expenses)"
   ]
  },
  {
   "cell_type": "code",
   "execution_count": 6,
   "id": "ab440a63",
   "metadata": {},
   "outputs": [
    {
     "name": "stdout",
     "output_type": "stream",
     "text": [
      "[2200, 2350, 2600, 1930, 2190, 1980]\n"
     ]
    }
   ],
   "source": [
    "# 5. You returned an item that you bought in a month of April and got a refund of 200$. Make a correction to your\n",
    "# monthly expense list based on this\n",
    "\n",
    "# we have to deduct 200 from our april expenditure and update our list\n",
    "\n",
    "april_new_expense = 2130-200\n",
    "\n",
    "# now replace the new expense in the list\n",
    "\n",
    "expenses[3] = april_new_expense\n",
    "\n",
    "print(expenses)"
   ]
  },
  {
   "cell_type": "markdown",
   "id": "1c5ce5dd",
   "metadata": {},
   "source": [
    "2. You have a list of your favourite marvel super heros.\n",
    "```\n",
    "heros=['spider man','thor','hulk','iron man','captain america']\n",
    "```\n",
    "\n",
    "Using this find out,\n",
    "\n",
    "    1. Length of the list\n",
    "    2. Add 'black panther' at the end of this list\n",
    "    3. You realize that you need to add 'black panther' after 'hulk',\n",
    "       so remove it from the list first and then add it after 'hulk'\n",
    "    4. Now you don't like thor and hulk because they get angry easily :)\n",
    "       So you want to remove thor and hulk from list and replace them with doctor strange (because he is cool).\n",
    "       Do that with one line of code.\n",
    "    5. Sort the heros list in alphabetical order (Hint. Use dir() functions to list down all functions available in list)\n"
   ]
  },
  {
   "cell_type": "code",
   "execution_count": 7,
   "id": "c1611bd3",
   "metadata": {},
   "outputs": [],
   "source": [
    "# define the list\n",
    "\n",
    "heros = ['spider man','thor','hulk','iron man','captain america']\n"
   ]
  },
  {
   "cell_type": "code",
   "execution_count": 8,
   "id": "3d9b7950",
   "metadata": {},
   "outputs": [
    {
     "name": "stdout",
     "output_type": "stream",
     "text": [
      "5\n"
     ]
    }
   ],
   "source": [
    "# 1. Length of the list\n",
    "\n",
    "print(len(heros))"
   ]
  },
  {
   "cell_type": "code",
   "execution_count": 9,
   "id": "4e9fa7d0",
   "metadata": {},
   "outputs": [
    {
     "name": "stdout",
     "output_type": "stream",
     "text": [
      "['spider man', 'thor', 'hulk', 'iron man', 'captain america', 'black panther']\n"
     ]
    }
   ],
   "source": [
    "# 2. Add 'black panther' at the end of this list\n",
    "\n",
    "heros.append('black panther')\n",
    "\n",
    "print(heros)"
   ]
  },
  {
   "cell_type": "code",
   "execution_count": 10,
   "id": "86e6bcc6",
   "metadata": {},
   "outputs": [
    {
     "name": "stdout",
     "output_type": "stream",
     "text": [
      "['spider man', 'thor', 'hulk', 'black panther', 'iron man', 'captain america']\n"
     ]
    }
   ],
   "source": [
    "# 3. You realize that you need to add 'black panther' after 'hulk',so remove it from the list first and then add it after 'hulk'\n",
    "# use remove() function to delete the blank panther\n",
    "\n",
    "heros.remove('black panther')\n",
    "\n",
    "# now insert it after hulk using the insert()\n",
    "\n",
    "heros.insert(3, 'black panther')\n",
    "\n",
    "\n",
    "print(heros)"
   ]
  },
  {
   "cell_type": "code",
   "execution_count": 11,
   "id": "495941b2",
   "metadata": {},
   "outputs": [
    {
     "name": "stdout",
     "output_type": "stream",
     "text": [
      "['spider man', 'doctor strange', 'black panther', 'iron man', 'captain america']\n"
     ]
    }
   ],
   "source": [
    "# 4. Now you don't like thor and hulk because they get angry easily :)\n",
    "# So you want to remove thor and hulk from list and replace them with doctor strange (because he is cool).\n",
    "# Do that with one line of code.\n",
    "\n",
    "heros[1:3] = ['doctor strange']\n",
    "\n",
    "print(heros)"
   ]
  },
  {
   "cell_type": "code",
   "execution_count": 12,
   "id": "46309095",
   "metadata": {},
   "outputs": [
    {
     "name": "stdout",
     "output_type": "stream",
     "text": [
      "['black panther', 'captain america', 'doctor strange', 'iron man', 'spider man']\n"
     ]
    }
   ],
   "source": [
    "# 5. Sort the heros list in alphabetical order (Hint. Use dir() functions to list down all functions available in list)\n",
    "\n",
    "# use sort(), by default it sorts from a-z\n",
    "heros.sort( )\n",
    "\n",
    "print(heros)"
   ]
  }
 ],
 "metadata": {
  "kernelspec": {
   "display_name": "Python 3 (ipykernel)",
   "language": "python",
   "name": "python3"
  },
  "language_info": {
   "codemirror_mode": {
    "name": "ipython",
    "version": 3
   },
   "file_extension": ".py",
   "mimetype": "text/x-python",
   "name": "python",
   "nbconvert_exporter": "python",
   "pygments_lexer": "ipython3",
   "version": "3.11.3"
  }
 },
 "nbformat": 4,
 "nbformat_minor": 5
}
