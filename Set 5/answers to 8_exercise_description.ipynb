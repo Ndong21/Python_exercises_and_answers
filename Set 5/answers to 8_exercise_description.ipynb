{
 "cells": [
  {
   "cell_type": "markdown",
   "id": "9c8139bd",
   "metadata": {},
   "source": [
    "# Python Basic Exercise from codebasics.io"
   ]
  },
  {
   "cell_type": "markdown",
   "id": "888fd47d",
   "metadata": {},
   "source": [
    "## Set 5: Python If Condition"
   ]
  },
  {
   "cell_type": "markdown",
   "id": "f25036e7",
   "metadata": {},
   "source": [
    "1. Using following list of cities per country,\n",
    "    ```\n",
    "    india = [\"mumbai\", \"banglore\", \"chennai\", \"delhi\"]\n",
    "    pakistan = [\"lahore\",\"karachi\",\"islamabad\"]\n",
    "    bangladesh = [\"dhaka\", \"khulna\", \"rangpur\"]\n",
    "    ```\n",
    "    1. Write a program that asks user to enter a city name and it should tell which country the city belongs to\n",
    "    2. Write a program that asks user to enter two cities and it tells you if they both are in same country or not. For example if I enter mumbai and chennai, it will print \"Both cities are in India\" but if I enter mumbai and dhaka it should print \"They don't belong to same country\""
   ]
  },
  {
   "cell_type": "code",
   "execution_count": 1,
   "id": "af9d9323",
   "metadata": {},
   "outputs": [],
   "source": [
    "# define all three list.\n",
    "\n",
    "india  = ['mumbai', 'banglore','chennai', 'delhi']\n",
    "\n",
    "pakistan = ['lahore', 'karachi','islamabad']\n",
    "\n",
    "bangladesh = ['dhaka', 'khalna', 'rangpur']"
   ]
  },
  {
   "cell_type": "code",
   "execution_count": 9,
   "id": "cf90d2c6",
   "metadata": {},
   "outputs": [
    {
     "name": "stdout",
     "output_type": "stream",
     "text": [
      "Enter the name of any city from the list below to find out the country it is located \n",
      "['mumbai', 'banglore', 'chennai', 'delhi', 'lahore', 'karachi', 'islamabad', 'dhaka', 'khalna', 'rangpur']\n",
      "Name of city: khalna\n",
      "----------\n",
      "this city is in bangladesh\n"
     ]
    }
   ],
   "source": [
    "# Question: Write a program that asks user to enter a city name and it should tell which country the city belongs to\n",
    "\n",
    "# print out all the cities in one list and prompt users to enter the name of any city\n",
    "\n",
    "print('Enter the name of any city from the list below to find out the country it is located ')\n",
    "print(india+pakistan+bangladesh) \n",
    "\n",
    "\n",
    "city = input('Name of city: ')\n",
    "print('-'*10)\n",
    "# define an if statement to check for your objective.\n",
    "\n",
    "if city in india:\n",
    "    print('this city is in india')\n",
    "elif city in pakistan:\n",
    "    print('this city is in pakistan')\n",
    "elif city in bangladesh:\n",
    "    print('this city is in bangladesh')\n",
    "else:\n",
    "    print('this city is not in the list above, please choose a city from the list')"
   ]
  },
  {
   "cell_type": "code",
   "execution_count": 15,
   "id": "38558017",
   "metadata": {},
   "outputs": [
    {
     "name": "stdout",
     "output_type": "stream",
     "text": [
      "['mumbai', 'banglore', 'chennai', 'delhi', 'lahore', 'karachi', 'islamabad', 'dhaka', 'khalna', 'rangpur']\n",
      "----------\n",
      "choose a city from the list: islamabad\n",
      "----------\n",
      "choose another city: dhaka\n",
      "----------\n",
      "both cities are not in the same country\n"
     ]
    }
   ],
   "source": [
    "# Write a program that asks user to enter two cities and it tells you if they both are in same country or not.\n",
    "# For example if I enter mumbai and chennai, it will print \"Both cities are in India\" \n",
    "# but if I enter mumbai and dhaka it should print \"They don't belong to same country\"\n",
    "\n",
    "# again let's print the list\n",
    "print(india+pakistan+bangladesh)\n",
    "print('-'*10)\n",
    "# enter first city\n",
    "city = input('choose a city from the list: ')\n",
    "print('-'*10)\n",
    "# enter another city\n",
    "city2 = input('choose another city: ')\n",
    "print('-'*10)\n",
    "# define an if statement\n",
    "\n",
    "if city in india and city2 in india:\n",
    "    print('both cities are found in india')\n",
    "elif city in pakistan and city2 in pakistan:\n",
    "    print('both cities are found in pakistan')\n",
    "elif city in bangladesh and city2 in bangladesh:\n",
    "    print('both cities are found in bangladesh')\n",
    "else:\n",
    "    print('both cities are not in the same country')"
   ]
  },
  {
   "cell_type": "markdown",
   "id": "cce0678e",
   "metadata": {},
   "source": [
    "2. Write a python program that can tell you if your sugar is normal or not. Normal fasting level sugar range is 80 to 100.\n",
    "    1. Ask user to enter his fasting sugar level\n",
    "    2. If it is below 80 to 100 range then print that sugar is low\n",
    "    3. If it is above 100 then print that it is high otherwise print that it is normal"
   ]
  },
  {
   "cell_type": "code",
   "execution_count": 18,
   "id": "f6f283a0",
   "metadata": {},
   "outputs": [
    {
     "name": "stdout",
     "output_type": "stream",
     "text": [
      "enter your sugar level: 90\n",
      "sugar level is normal\n"
     ]
    }
   ],
   "source": [
    "# ask user to enter sugar level\n",
    "\n",
    "sugar_level = input('enter your sugar level: ')\n",
    "\n",
    "# convert this sugar level to integer\n",
    "\n",
    "sugar_level = int(sugar_level)\n",
    "\n",
    "# write if statements to check various contidions\n",
    "\n",
    "if sugar_level < 80:\n",
    "    print('sugar level is low')\n",
    "elif sugar_level > 100:\n",
    "    print('sugar level is high')\n",
    "else:\n",
    "    print('sugar level is normal')"
   ]
  }
 ],
 "metadata": {
  "kernelspec": {
   "display_name": "Python 3 (ipykernel)",
   "language": "python",
   "name": "python3"
  },
  "language_info": {
   "codemirror_mode": {
    "name": "ipython",
    "version": 3
   },
   "file_extension": ".py",
   "mimetype": "text/x-python",
   "name": "python",
   "nbconvert_exporter": "python",
   "pygments_lexer": "ipython3",
   "version": "3.11.3"
  }
 },
 "nbformat": 4,
 "nbformat_minor": 5
}
